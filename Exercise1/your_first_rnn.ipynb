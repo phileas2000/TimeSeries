{
  "cells": [
    {
      "cell_type": "markdown",
      "metadata": {
        "id": "odRxLQp8WKEY"
      },
      "source": [
        "# Your First RNN\n",
        "\n",
        "**Exercise objectives**:\n",
        "\n",
        "- Better understand temporal data\n",
        "- Build your first Recurrent Neural Network\n",
        "\n",
        "\n",
        "<hr>\n",
        "<hr>"
      ]
    },
    {
      "cell_type": "markdown",
      "metadata": {
        "id": "dAus5TNoWKEb"
      },
      "source": [
        "## 1. The data\n",
        "\n",
        "Let's start with simple sequences of observations:"
      ]
    },
    {
      "cell_type": "code",
      "execution_count": null,
      "metadata": {
        "ExecuteTime": {
          "end_time": "2021-04-30T12:39:41.941601Z",
          "start_time": "2021-04-30T12:39:36.582515Z"
        },
        "id": "S1L3xNedWKEb"
      },
      "outputs": [],
      "source": [
        "\n",
        "import numpy as np"
      ]
    },
    {
      "cell_type": "code",
      "source": [
        "from google.colab import files\n",
        "files.upload()"
      ],
      "metadata": {
        "colab": {
          "resources": {
            "http://localhost:8080/nbextensions/google.colab/files.js": {
              "data": "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",
              "ok": true,
              "headers": [
                [
                  "content-type",
                  "application/javascript"
                ]
              ],
              "status": 200,
              "status_text": ""
            }
          },
          "base_uri": "https://localhost:8080/",
          "height": 55
        },
        "id": "kbhR52yKWa2o",
        "outputId": "6d53b66a-4987-4a41-ba51-fbd5047f75d1"
      },
      "execution_count": null,
      "outputs": [
        {
          "output_type": "display_data",
          "data": {
            "text/html": [
              "\n",
              "     <input type=\"file\" id=\"files-d7230b5b-aa76-4595-877e-6efc1c3e6fdd\" name=\"files[]\" multiple disabled\n",
              "        style=\"border:none\" />\n",
              "     <output id=\"result-d7230b5b-aa76-4595-877e-6efc1c3e6fdd\">\n",
              "      Upload widget is only available when the cell has been executed in the\n",
              "      current browser session. Please rerun this cell to enable.\n",
              "      </output>\n",
              "      <script src=\"/nbextensions/google.colab/files.js\"></script> "
            ],
            "text/plain": [
              "<IPython.core.display.HTML object>"
            ]
          },
          "metadata": {}
        },
        {
          "output_type": "execute_result",
          "data": {
            "text/plain": [
              "{}"
            ]
          },
          "metadata": {},
          "execution_count": 12
        }
      ]
    },
    {
      "cell_type": "code",
      "execution_count": null,
      "metadata": {
        "ExecuteTime": {
          "end_time": "2021-04-30T12:39:41.954512Z",
          "start_time": "2021-04-30T12:39:41.943706Z"
        },
        "id": "4QZ3cwN0WKEc"
      },
      "outputs": [],
      "source": [
        "X = np.load('X.sav',allow_pickle=True)\n",
        "y = np.load('Y.sav',allow_pickle=True)"
      ]
    },
    {
      "cell_type": "code",
      "execution_count": null,
      "metadata": {
        "ExecuteTime": {
          "end_time": "2021-04-30T12:39:41.970258Z",
          "start_time": "2021-04-30T12:39:41.959458Z"
        },
        "colab": {
          "base_uri": "https://localhost:8080/"
        },
        "id": "9nEV4dJcWKEd",
        "outputId": "1d7a61c0-2e2b-45d5-ded3-a05ff7423e15"
      },
      "outputs": [
        {
          "output_type": "stream",
          "name": "stdout",
          "text": [
            "(25000, 10, 3)\n",
            "[[  1.436 113.    197.   ]\n",
            " [  1.725 116.    197.   ]\n",
            " [  2.144 116.    197.   ]\n",
            " [  2.202 116.    197.   ]\n",
            " [  2.341 116.    166.   ]\n",
            " [  2.449 143.    166.   ]\n",
            " [  6.088 143.    108.   ]\n",
            " [  6.169 107.    108.   ]\n",
            " [  2.656 107.    108.   ]\n",
            " [  2.848 107.    108.   ]]\n"
          ]
        }
      ],
      "source": [
        "print(X.shape)\n",
        "print(X[0])"
      ]
    },
    {
      "cell_type": "code",
      "execution_count": null,
      "metadata": {
        "ExecuteTime": {
          "end_time": "2021-04-30T12:39:41.986499Z",
          "start_time": "2021-04-30T12:39:41.974653Z"
        },
        "colab": {
          "base_uri": "https://localhost:8080/"
        },
        "id": "aorUpofyWKEe",
        "outputId": "98097d15-9069-4711-f406-7b8e3e04c808"
      },
      "outputs": [
        {
          "output_type": "stream",
          "name": "stdout",
          "text": [
            "(25000,)\n",
            "2.872\n",
            "[2.872 2.355 3.722 ... 7.413 2.99  7.126]\n"
          ]
        }
      ],
      "source": [
        "print(y.shape)\n",
        "print(y[0])\n",
        "print(y)"
      ]
    },
    {
      "cell_type": "markdown",
      "metadata": {
        "id": "dVbjcrDlWKEe"
      },
      "source": [
        "☝️ The data describes the evolution of the **employment status of a person, year after year**: each sequence corresponds to 10 consecutive years, where each year describes a job situation, comprising of 3 components\n",
        "- the salary,\n",
        "- the number of persons under one's responsability,\n",
        "- the size of the company. \n",
        "\n",
        "So, from this 25000 sequences, each of 10 consecutive observations, the goal is to predict the salary on the 11th year based on the past observations. "
      ]
    },
    {
      "cell_type": "markdown",
      "metadata": {
        "id": "099VAV0FWKEe"
      },
      "source": [
        "❓ **Question** ❓ Take some sequences and plot the evolution of their salaries, of the persons under their responsibility and of the company sizes. You might see some correlation between the three variables."
      ]
    },
    {
      "cell_type": "code",
      "execution_count": null,
      "metadata": {
        "ExecuteTime": {
          "end_time": "2021-04-30T12:39:43.191201Z",
          "start_time": "2021-04-30T12:39:41.990748Z"
        },
        "tags": [
          "challengify"
        ],
        "colab": {
          "base_uri": "https://localhost:8080/",
          "height": 282
        },
        "id": "Go6ZtDmjWKEf",
        "outputId": "c69b7166-e58d-47e5-9f5f-19bd703c22e7"
      },
      "outputs": [
        {
          "output_type": "execute_result",
          "data": {
            "text/plain": [
              "<matplotlib.legend.Legend at 0x7efe090a5210>"
            ]
          },
          "metadata": {},
          "execution_count": 16
        },
        {
          "output_type": "display_data",
          "data": {
            "image/png": "[encoded data removed]",
            "text/plain": [
              "<Figure size 432x288 with 1 Axes>"
            ]
          },
          "metadata": {
            "needs_background": "light"
          }
        }
      ],
      "source": [
        "import matplotlib.pyplot as plt\n",
        "monPlot=plt.plot(X[0])\n",
        "plt.legend(monPlot, ('salary(K)', 'number of subalterns', 'size of company'))"
      ]
    },
    {
      "cell_type": "markdown",
      "metadata": {
        "id": "88DWTOauWKEf"
      },
      "source": [
        "❓ **Question** ❓ Plot the distribution of all the salaries, persons under one's responsibility, and company sizes to get a better understanding of the variability of observations"
      ]
    },
    {
      "cell_type": "code",
      "execution_count": null,
      "metadata": {
        "ExecuteTime": {
          "end_time": "2021-04-30T12:39:47.464352Z",
          "start_time": "2021-04-30T12:39:43.195601Z"
        },
        "scrolled": false,
        "tags": [
          "challengify"
        ],
        "id": "sfefuQDSWKEf"
      },
      "outputs": [],
      "source": [
        "# YOUR CODE HERE"
      ]
    },
    {
      "cell_type": "markdown",
      "metadata": {
        "id": "pEd7gJOVWKEg"
      },
      "source": [
        "❓ **Question** ❓  Split your dataset between a train and test set (20/80%)"
      ]
    },
    {
      "cell_type": "code",
      "execution_count": null,
      "metadata": {
        "ExecuteTime": {
          "end_time": "2021-04-30T12:39:48.590677Z",
          "start_time": "2021-04-30T12:39:47.469185Z"
        },
        "tags": [
          "challengify"
        ],
        "id": "mvhbWrFDWKEg"
      },
      "outputs": [],
      "source": [
        "from sklearn.model_selection import  train_test_split\n",
        "X_train,X_test,y_train,y_test= train_test_split(X,y,test_size=0.2)"
      ]
    },
    {
      "cell_type": "code",
      "execution_count": null,
      "metadata": {
        "id": "1NEVGcT8WKEg"
      },
      "outputs": [],
      "source": [
        "from tensorflow.keras import layers"
      ]
    },
    {
      "cell_type": "markdown",
      "metadata": {
        "id": "ghZAfF5SWKEg"
      },
      "source": [
        "# 2. A Simple RNN\n",
        "\n",
        "Now, you will create your first Recurrent Neural Network. Let's start simple\n",
        "\n",
        "❓ **Question** ❓ Write a model that has: \n",
        "- a `Normalization` layer adapted on the training set\n",
        "- a `SimpleRNN` layer with 20 `units` - don't forget to choose the `tanh` activation function\n",
        "- a Dense layer with 10 neurons\n",
        "- a last Dense layer specific to your task (predict a salary)\n",
        "\n",
        "Remember, you don't need to specify an `input_shape`: as soon as your normalizer has been adapted to your train set, it has memorized it."
      ]
    },
    {
      "cell_type": "code",
      "execution_count": null,
      "metadata": {
        "ExecuteTime": {
          "end_time": "2021-04-30T12:39:48.633126Z",
          "start_time": "2021-04-30T12:39:48.592889Z"
        },
        "id": "QKMHiPOQWKEh"
      },
      "outputs": [],
      "source": [
        "#from tensorflow.keras.layers import Normalization\n",
        "from tensorflow.keras.models import Sequential\n",
        "from tensorflow.keras.layers import Dense, SimpleRNN, Flatten\n",
        "\n",
        "\n",
        "model=Sequential()\n",
        "model.add(layers.Normalization())\n",
        "model.add(SimpleRNN(units=20))\n",
        "model.add(Dense(10,activation=\"relu\"))\n",
        "model.add(Dense(1,activation=\"linear\"))\n",
        "\n",
        "# YOUR CODE HERE"
      ]
    },
    {
      "cell_type": "markdown",
      "metadata": {
        "id": "mmc0J19uWKEh"
      },
      "source": [
        "❓ **Question** ❓ Compute the number of trainable parameters of your model using `model.summary`. \n",
        "\n",
        "Then, try to recompute them by hand\n",
        "\n",
        "💡 Hints: \n",
        "- Your `normalization` layer has 7 non-trainable params, which comprise of the mean and standard deviation of each 3 features (salary, persons under responsibility, company size) plus one bias set to 0\n",
        "\n",
        "- If $\\color{green}{n_h}$ RNN units are applied in parallel to $\\color{red}{n_x}$ features, the layer has $\\color{green}{n_h}(\\color{green}{n_h} + \\color{red}{n_x} + 1)$ parameters to train. Notice how this number is *independent* of the length of each sequences (here 10 days)\n"
      ]
    },
    {
      "cell_type": "code",
      "execution_count": null,
      "metadata": {
        "ExecuteTime": {
          "end_time": "2021-04-30T12:39:48.877157Z",
          "start_time": "2021-04-30T12:39:48.869470Z"
        },
        "id": "kixhzcXzWKEi"
      },
      "outputs": [],
      "source": [
        "model.compile(optimizer='Adam',loss='mean_absolute_error',metrics ='mean_absolute_percentage_error')\n",
        "\n"
      ]
    },
    {
      "cell_type": "markdown",
      "metadata": {
        "id": "usJjz_nuWKEi"
      },
      "source": [
        "❓ **Question** ❓ Compile your model. Remember to first use the `rmsprop` optimizer (instead of Adam)."
      ]
    },
    {
      "cell_type": "code",
      "execution_count": null,
      "metadata": {
        "ExecuteTime": {
          "end_time": "2021-04-30T12:39:48.928289Z",
          "start_time": "2021-04-30T12:39:48.897559Z"
        },
        "tags": [
          "challengify"
        ],
        "id": "qrE2urCkWKEi"
      },
      "outputs": [],
      "source": [
        "\n"
      ]
    },
    {
      "cell_type": "markdown",
      "metadata": {
        "id": "eW9Q3B_-WKEi"
      },
      "source": [
        "❓ **Question** ❓ Run your model on your data. Use a validation split of 20% and an early stopping criterion (patience=5). Evaluate your performance on the test set"
      ]
    },
    {
      "cell_type": "code",
      "execution_count": null,
      "metadata": {
        "ExecuteTime": {
          "end_time": "2021-04-30T12:39:48.938000Z",
          "start_time": "2021-04-30T12:39:48.931963Z"
        },
        "colab": {
          "base_uri": "https://localhost:8080/"
        },
        "id": "j_ruP4SNWKEj",
        "outputId": "6479a04d-1288-4a43-c57a-ed6ade2bda32"
      },
      "outputs": [
        {
          "output_type": "stream",
          "name": "stdout",
          "text": [
            "500/500 [==============================] - 2s 3ms/step - loss: 2.3764 - mean_absolute_percentage_error: 41.2098 - val_loss: 1.6515 - val_mean_absolute_percentage_error: 35.0666\n",
            "Model: \"sequential_2\"\n",
            "_________________________________________________________________\n",
            " Layer (type)                Output Shape              Param #   \n",
            "=================================================================\n",
            " normalization_2 (Normalizat  (32, 10, 3)              7         \n",
            " ion)                                                            \n",
            "                                                                 \n",
            " simple_rnn_1 (SimpleRNN)    (32, 20)                  480       \n",
            "                                                                 \n",
            " dense_4 (Dense)             (32, 10)                  210       \n",
            "                                                                 \n",
            " dense_5 (Dense)             (32, 1)                   11        \n",
            "                                                                 \n",
            "=================================================================\n",
            "Total params: 708\n",
            "Trainable params: 701\n",
            "Non-trainable params: 7\n",
            "_________________________________________________________________\n",
            "None\n",
            "157/157 [==============================] - 1s 2ms/step - loss: 1.6941 - mean_absolute_percentage_error: 32.8050\n",
            "[1.6941263675689697, 32.805023193359375]\n"
          ]
        }
      ],
      "source": [
        "from tensorflow.keras.callbacks import EarlyStopping\n",
        "EarlyStopping(monitor='val_loss',patience =1000)\n",
        "model.fit(X_train,y_train,validation_split=0.2)\n",
        "print(model.summary())\n",
        "print(model.evaluate(X_test,y_test))"
      ]
    },
    {
      "cell_type": "markdown",
      "metadata": {
        "id": "HQqqvwhBWKEj"
      },
      "source": [
        "# Baseline comparison?\n",
        "\n",
        "\n",
        "In the case of a usual regression model, a baseline prediction for `y_test` could be to predict the average of `y_train`.\n",
        "\n",
        "With temporal data, it often happens that you try to predict a value that you have already seen in the past: here, the salary. In that case, a baseline model could be to predict for instance that the 11-th salary is equal to the 10-th salary.\n",
        "\n",
        "❓ **Question** ❓ Compute the Mean Absolute Error of a model that would predict that the salary remains constant between the 10-th and 11-th year and compare it to your RNN."
      ]
    },
    {
      "cell_type": "code",
      "execution_count": null,
      "metadata": {
        "ExecuteTime": {
          "end_time": "2021-04-30T12:40:12.550146Z",
          "start_time": "2021-04-30T12:40:12.521350Z"
        },
        "tags": [
          "challengify"
        ],
        "colab": {
          "base_uri": "https://localhost:8080/"
        },
        "id": "skO39cLHWKEj",
        "outputId": "a8287310-4731-4198-8658-f96ee2eb32cf"
      },
      "outputs": [
        {
          "output_type": "stream",
          "name": "stdout",
          "text": [
            "Erreur moyenne absolue: 0.6021607999999997\n",
            "Moyenne:4.81193679999998\n",
            "Erreure moyenne pourcentage: 12.513896691245035\n"
          ]
        }
      ],
      "source": [
        "tot=0\n",
        "moy=0\n",
        "\n",
        "i=0\n",
        "for e,e2 in zip(X[0:2500,9,0],y):\n",
        "    i+=1\n",
        "    moy+=e\n",
        " \n",
        "    tot+=abs(e-e2)\n",
        "print(\"Erreur moyenne absolue: \"+str(tot/i))\n",
        "print(\"Moyenne:\"+str(moy/i))\n",
        "print(\"Erreure moyenne pourcentage: \"+str(tot/moy*100))\n"
      ]
    },
    {
      "cell_type": "markdown",
      "metadata": {
        "id": "xEU8pnC5WKEk"
      },
      "source": [
        "You have probably seen that your prediction is a little bit better than the baseline model\n",
        "\n",
        "# LSTM\n",
        "\n",
        "❓ **Question** ❓ Write the exact same model, but with a `LSTM` instead of a `SimpleRNN` and evaluate your performance on the test set"
      ]
    },
    {
      "cell_type": "code",
      "execution_count": null,
      "metadata": {
        "ExecuteTime": {
          "end_time": "2021-04-30T12:40:12.560395Z",
          "start_time": "2021-04-30T12:40:12.556367Z"
        },
        "id": "og6ADkLrWKEk"
      },
      "outputs": [],
      "source": [
        "\n",
        "from tensorflow.keras.layers import LSTM\n",
        "\n",
        "\n",
        "model=Sequential()\n",
        "model.add(layers.Normalization())\n",
        "model.add(LSTM(units=20))\n",
        "model.add(Dense(10,activation=\"relu\"))\n",
        "model.add(Dense(1,activation=\"linear\"))"
      ]
    },
    {
      "cell_type": "code",
      "source": [
        "model.compile(optimizer='Adam',loss='mean_absolute_error',metrics ='mean_absolute_percentage_error')\n",
        "EarlyStopping(monitor='val_loss',patience =1000)\n",
        "model.fit(X_train,y_train,validation_split=0.2)\n",
        "print(model.summary())\n",
        "print(model.evaluate(X_test,y_test))"
      ],
      "metadata": {
        "colab": {
          "base_uri": "https://localhost:8080/"
        },
        "id": "da_CGyk750QG",
        "outputId": "7bc1c2ab-ce25-477b-c655-a4c26d012d49"
      },
      "execution_count": null,
      "outputs": [
        {
          "output_type": "stream",
          "name": "stdout",
          "text": [
            "500/500 [==============================] - 4s 5ms/step - loss: 0.5468 - mean_absolute_percentage_error: 11.0938 - val_loss: 0.4739 - val_mean_absolute_percentage_error: 9.8062\n",
            "Model: \"sequential_4\"\n",
            "_________________________________________________________________\n",
            " Layer (type)                Output Shape              Param #   \n",
            "=================================================================\n",
            " normalization_4 (Normalizat  (None, 10, 3)            7         \n",
            " ion)                                                            \n",
            "                                                                 \n",
            " lstm_2 (LSTM)               (None, 20)                1920      \n",
            "                                                                 \n",
            " dense_8 (Dense)             (None, 10)                210       \n",
            "                                                                 \n",
            " dense_9 (Dense)             (None, 1)                 11        \n",
            "                                                                 \n",
            "=================================================================\n",
            "Total params: 2,148\n",
            "Trainable params: 2,141\n",
            "Non-trainable params: 7\n",
            "_________________________________________________________________\n",
            "None\n",
            "157/157 [==============================] - 1s 2ms/step - loss: 0.4908 - mean_absolute_percentage_error: 8.6047\n",
            "[0.49084386229515076, 8.604704856872559]\n"
          ]
        }
      ]
    },
    {
      "cell_type": "markdown",
      "metadata": {
        "id": "-mBE7jdjWKEk"
      },
      "source": [
        "## 🏁 Congratulation\n",
        "\n",
        "You now know how to run RNN on sequence data!\n",
        "\n",
        "Note: The sequences you worked with are totally fake. In case you need to train and reproduce similar data, you can find bellow the functions that have been used to simulate this data."
      ]
    },
    {
      "cell_type": "markdown",
      "metadata": {
        "id": "br-c37BmWKEk"
      },
      "source": [
        "# Utils (for reference only)"
      ]
    },
    {
      "cell_type": "code",
      "execution_count": null,
      "metadata": {
        "ExecuteTime": {
          "end_time": "2021-04-30T12:40:46.261353Z",
          "start_time": "2021-04-30T12:40:46.249674Z"
        },
        "id": "eepa2-c1WKEk"
      },
      "outputs": [],
      "source": [
        "def create_sequences(number):\n",
        "    X, y = [], []\n",
        "    \n",
        "    for i in range(number):\n",
        "        x_i, y_i = create_individual_sequence(10)\n",
        "        X.append(x_i)\n",
        "        y.append(y_i)\n",
        "        \n",
        "    return np.array(X), np.array(y)\n",
        "            \n",
        "def create_individual_sequence(length):\n",
        "    company_sizes = []\n",
        "    nb_persons = []\n",
        "    salaries = []\n",
        "    \n",
        "    \n",
        "    # Education level\n",
        "    educ_level = [max(0, int(np.random.normal(10, 2)))]*length\n",
        "    \n",
        "    # Company size\n",
        "    current_size = int(1 + np.random.beta(.4, 4)*500)\n",
        "    for i in range(length):\n",
        "        if not np.random.randint(4): # Change 1 out of 3 possibilities \n",
        "            current_size = int(max(1, np.random.normal(current_size, 50)))\n",
        "        company_sizes.append(current_size)\n",
        "    \n",
        "    # Number of persons\n",
        "    nb_iter = np.random.beta(.15, 4)*300\n",
        "    for i in range(length):\n",
        "        if not np.random.randint(2): # Change 1 out of 2 possibilities\n",
        "            R_1 = np.random.beta(0.5, 8)*3\n",
        "            nb_iter = nb_iter + max(-2, R_1*company_sizes[i] + np.random.randint(-2, 2))\n",
        "            nb_iter = max(0, nb_iter)\n",
        "            nb_iter = int(min(company_sizes[i]-1, nb_iter))\n",
        "        nb_persons.append(nb_iter)\n",
        "        \n",
        "    \n",
        "    # Salary\n",
        "    salary_iter = max(800, int(np.random.normal(1200, 300)+ 0.05*company_sizes[0] +  np.random.normal(40, 400)))\n",
        "    salaries.append(salary_iter)\n",
        "    for i in range(1, length + 1):\n",
        "        R_1 = np.random.normal(100, 50)\n",
        "        change_person = nb_persons[i-1] - nb_persons[i-2]\n",
        "        change_company = max(0, company_sizes[i-1] - company_sizes[i-2])\n",
        "        salary_iter = salary_iter + 0.05*change_company + change_person*R_1 + np.random.normal(100, 50)\n",
        "        salary_iter = max(int(salary_iter), 500)\n",
        "        \n",
        "        salaries.append(salary_iter)\n",
        "\n",
        "    y = salaries[-1]/1000\n",
        "    salaries = [_/1000 for _ in salaries[:-1]]\n",
        "    \n",
        "    return np.array([salaries, nb_persons, company_sizes]).T, y"
      ]
    },
    {
      "cell_type": "code",
      "execution_count": null,
      "metadata": {
        "ExecuteTime": {
          "end_time": "2021-04-30T12:40:46.265464Z",
          "start_time": "2021-04-30T12:40:46.263504Z"
        },
        "id": "F39Tn9R4WKEl"
      },
      "outputs": [],
      "source": [
        "#X, y = create_sequences(25000)\n",
        "\n",
        "#np.save('X', X.astype(np.float32))\n",
        "#np.save('y', y)"
      ]
    }
  ],
  "metadata": {
    "kernelspec": {
      "display_name": "Python 3 (ipykernel)",
      "language": "python",
      "name": "python3"
    },
    "language_info": {
      "codemirror_mode": {
        "name": "ipython",
        "version": 3
      },
      "file_extension": ".py",
      "mimetype": "text/x-python",
      "name": "python",
      "nbconvert_exporter": "python",
      "pygments_lexer": "ipython3",
      "version": "3.7.4"
    },
    "toc": {
      "base_numbering": 1,
      "nav_menu": {},
      "number_sections": false,
      "sideBar": true,
      "skip_h1_title": false,
      "title_cell": "Table of Contents",
      "title_sidebar": "Contents",
      "toc_cell": false,
      "toc_position": {},
      "toc_section_display": true,
      "toc_window_display": true
    },
    "varInspector": {
      "cols": {
        "lenName": 16,
        "lenType": 16,
        "lenVar": 40
      },
      "kernels_config": {
        "python": {
          "delete_cmd_postfix": "",
          "delete_cmd_prefix": "del ",
          "library": "var_list.py",
          "varRefreshCmd": "print(var_dic_list())"
        },
        "r": {
          "delete_cmd_postfix": ") ",
          "delete_cmd_prefix": "rm(",
          "library": "var_list.r",
          "varRefreshCmd": "cat(var_dic_list()) "
        }
      },
      "types_to_exclude": [
        "module",
        "function",
        "builtin_function_or_method",
        "instance",
        "_Feature"
      ],
      "window_display": false
    },
    "colab": {
      "name": "your_first_rnn.ipynb",
      "provenance": []
    }
  },
  "nbformat": 4,
  "nbformat_minor": 0
}